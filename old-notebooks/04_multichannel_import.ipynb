{
 "cells": [
  {
   "cell_type": "code",
   "execution_count": 1,
   "metadata": {},
   "outputs": [],
   "source": [
    "import pandas as pd\n",
    "import numpy as np\n",
    "import SimpleITK\n",
    "import os\n",
    "import matplotlib.pyplot as plt"
   ]
  },
  {
   "cell_type": "code",
   "execution_count": 2,
   "metadata": {},
   "outputs": [],
   "source": [
    "def load_dicom_series(input_dir):\n",
    "    \"\"\"Reads an entire DICOM series of slices from 'input_dir' and returns its pixel data as an array.\"\"\"\n",
    "\n",
    "    \n",
    "    try:\n",
    "\n",
    "        reader = SimpleITK.ImageSeriesReader()\n",
    "        dicom_names = reader.GetGDCMSeriesFileNames(input_dir)\n",
    "        reader.SetFileNames(dicom_names)\n",
    "        dicom_series = reader.Execute()\n",
    "\n",
    "        dicom_array = SimpleITK.GetArrayFromImage(dicom_series)\n",
    "        dicom_array = np.moveaxis(dicom_array, 0, -1)\n",
    "        return dicom_array\n",
    "    except:\n",
    "        return None"
   ]
  },
  {
   "cell_type": "code",
   "execution_count": 4,
   "metadata": {},
   "outputs": [],
   "source": [
    "def load_ktrans(input_dir):\n",
    "    try:\n",
    "        files = os.listdir(input_dir)\n",
    "\n",
    "        mhd_file = [f for f in files if \".mhd\" in f]\n",
    "        mhd_file = mhd_file[0]\n",
    "\n",
    "\n",
    "        path = os.path.join(input_dir, mhd_file)\n",
    "        itkimage = SimpleITK.ReadImage(path)\n",
    "        ct_scan = SimpleITK.GetArrayFromImage(itkimage)\n",
    "        \n",
    "        ct_scan = np.moveaxis(ct_scan, 0, -1)\n",
    "\n",
    "        return ct_scan\n",
    "    except: \n",
    "        return None\n",
    "    "
   ]
  },
  {
   "cell_type": "code",
   "execution_count": 5,
   "metadata": {},
   "outputs": [],
   "source": [
    "def get_image_patch(img_array, coords, padding=32):\n",
    "\n",
    "\n",
    "    \"\"\" Description\n",
    "    :type img_array: numpy array\n",
    "    :param img_array: a image comprised of a numpy array\n",
    "\n",
    "    :type coords: list(i,j)\n",
    "    :param coords: The coordinates where the crop will be centered, of type (i,j), i being the columns and j the row\n",
    "\n",
    "    :type padding: int or list(x,y)\n",
    "    :param padding: The padding that will be around the center coordinates. If an int, it will create a square image. If a list x is the horizontal padding and y the vertical\n",
    "\n",
    "    :raises:\n",
    "\n",
    "    :rtype:\n",
    "     \"\"\"\n",
    "\n",
    "    i = coords[0]\n",
    "    j = coords[1]\n",
    "\n",
    "    if isinstance(padding, list):\n",
    "        h_padding = padding[0]\n",
    "        v_padding = padding[1]\n",
    "    else:\n",
    "        h_padding = padding\n",
    "        v_padding = padding\n",
    "\n",
    "    X_ = img_array[j - v_padding: j + v_padding, i - h_padding: i + h_padding]\n",
    "    # NUMPY ARRAYs are of standart (row, columns)\n",
    "\n",
    "    return X_"
   ]
  },
  {
   "cell_type": "code",
   "execution_count": 8,
   "metadata": {},
   "outputs": [],
   "source": [
    "def get_exam(lesion_info, exam='ADC', padding=32, path=base_path):\n",
    "    \n",
    "    \n",
    "    exame_row = lesion_info\n",
    "    \n",
    "    exame_row = exame_row.loc[exame_row.DCMSerDescr.str.contains(exam)]\n",
    "    \n",
    "    if exame_row.empty:\n",
    "        print(\"No lesion found\")\n",
    "        return None\n",
    "    \n",
    "    else:\n",
    "        tmp_row = exame_row.iloc[0]\n",
    "        \n",
    "        exam_folder = os.path.join(base_path, tmp_row.ProxID, tmp_row.DCMSerDescr)\n",
    "    \n",
    "        if(exam != 'KTrans'):\n",
    "            image = load_dicom_series(input_dir=exam_folder)\n",
    "\n",
    "        else:\n",
    "            image = load_ktrans(exam_folder)\n",
    "        \n",
    "        if image is None:\n",
    "            return None\n",
    "        \n",
    "        \n",
    "        if(tmp_row.k < image.shape[2]):\n",
    "            slice_array = image[:,:, tmp_row.k]\n",
    "            patch = get_image_patch(slice_array, (tmp_row.i, tmp_row.j), padding=padding)\n",
    "            # print(patch.shape)\n",
    "\n",
    "        else:\n",
    "            print(\"Had to cut image\")\n",
    "            return None\n",
    "            \n",
    "        if(patch.shape == (2*padding,2*padding)):\n",
    "            return np.asarray(patch).reshape((1,2*padding,2*padding, 1))\n",
    "        \n",
    "        \n",
    "        \n",
    "        \n",
    "    \n",
    "    "
   ]
  },
  {
   "cell_type": "code",
   "execution_count": 7,
   "metadata": {},
   "outputs": [],
   "source": [
    "metadata = pd.read_csv(\"../data/interim/train_information.csv\")\n",
    "base_path = \"../data/interim/train/\""
   ]
  },
  {
   "cell_type": "code",
   "execution_count": 9,
   "metadata": {},
   "outputs": [],
   "source": [
    "to_iterate = metadata.drop_duplicates([\"ProxID\", \"fid\", \"pos\"])[[\"ProxID\", \"fid\", \"ClinSig\"]]"
   ]
  },
  {
   "cell_type": "code",
   "execution_count": 10,
   "metadata": {},
   "outputs": [],
   "source": [
    "from skimage.transform import rescale, resize\n",
    "from imgaug import augmenters as iaa\n"
   ]
  },
  {
   "cell_type": "code",
   "execution_count": 13,
   "metadata": {},
   "outputs": [
    {
     "name": "stdout",
     "output_type": "stream",
     "text": [
      "Had to cut image\n",
      "Had to cut image\n",
      "(0, 64, 64, 3)\n"
     ]
    }
   ],
   "source": [
    "# ADC\n",
    "# t2-tse\n",
    "# t2-loc\n",
    "\n",
    "padding = 32\n",
    "\n",
    "X = np.empty((1000, 64,64,3))\n",
    "\n",
    "y = []\n",
    "i = 0\n",
    "\n",
    "aug = iaa.Scale(0.5, interpolation=\"area\")\n",
    "for tup in to_iterate.itertuples():\n",
    "    X_ = []\n",
    "    \n",
    "    person_path = os.path.join(base_path, tup.ProxID)\n",
    "    \n",
    "    person_exams = os.listdir(person_path)\n",
    "    \n",
    "    \n",
    "    lesion_info = metadata[(metadata.ProxID == tup.ProxID) & (metadata.fid == tup.fid)]\n",
    "    \n",
    "\n",
    "    adc = get_exam(lesion_info, '_ADC', padding=padding )\n",
    "    if adc is  None:\n",
    "        continue\n",
    "        \n",
    "\n",
    "    t2_tse = get_exam(lesion_info, 't2_tse_tra', padding=2*padding)\n",
    "    #print(t2_tse.shape)\n",
    "    if t2_tse is None:\n",
    "        continue\n",
    "    #print(t2_tse[0].shape)\n",
    "    t2_tse = np.uint8(t2_tse)\n",
    "    t2_tse = aug.augment_images(t2_tse)\n",
    "    \n",
    "    ktrans = get_exam(lesion_info, 'KTrans', padding=padding)\n",
    "    \n",
    "    if ktrans is None:\n",
    "        continue\n",
    "\n",
    "    X_ = np.concatenate([adc, t2_tse, ktrans], axis = 3)\n",
    "    # X = np.append(X, X_, axis=0)\n",
    "    X[i, :, :, :] = X_\n",
    "    i = i+1\n",
    "    \n",
    "    y_ = 1 if tup.ClinSig else 0\n",
    "    y.append(y_)\n",
    "    \n",
    "    \n",
    "\n",
    "X = X[:i]\n",
    "\n",
    "print(X.shape)"
   ]
  },
  {
   "cell_type": "code",
   "execution_count": 14,
   "metadata": {},
   "outputs": [
    {
     "ename": "IndexError",
     "evalue": "index 2 is out of bounds for axis 0 with size 0",
     "output_type": "error",
     "traceback": [
      "\u001b[0;31m---------------------------------------------------------------------------\u001b[0m",
      "\u001b[0;31mIndexError\u001b[0m                                Traceback (most recent call last)",
      "\u001b[0;32m<ipython-input-14-901b89ba3645>\u001b[0m in \u001b[0;36m<module>\u001b[0;34m\u001b[0m\n\u001b[1;32m      1\u001b[0m \u001b[0;32mimport\u001b[0m \u001b[0mmatplotlib\u001b[0m\u001b[0;34m.\u001b[0m\u001b[0mpyplot\u001b[0m \u001b[0;32mas\u001b[0m \u001b[0mplt\u001b[0m\u001b[0;34m\u001b[0m\u001b[0m\n\u001b[1;32m      2\u001b[0m \u001b[0;34m\u001b[0m\u001b[0m\n\u001b[0;32m----> 3\u001b[0;31m \u001b[0mplt\u001b[0m\u001b[0;34m.\u001b[0m\u001b[0mimshow\u001b[0m\u001b[0;34m(\u001b[0m\u001b[0mX\u001b[0m\u001b[0;34m[\u001b[0m\u001b[0;36m2\u001b[0m\u001b[0;34m,\u001b[0m \u001b[0;34m:\u001b[0m\u001b[0;34m,\u001b[0m \u001b[0;34m:\u001b[0m\u001b[0;34m,\u001b[0m \u001b[0;36m1\u001b[0m\u001b[0;34m]\u001b[0m\u001b[0;34m)\u001b[0m\u001b[0;34m\u001b[0m\u001b[0m\n\u001b[0m",
      "\u001b[0;31mIndexError\u001b[0m: index 2 is out of bounds for axis 0 with size 0"
     ]
    }
   ],
   "source": [
    "import matplotlib.pyplot as plt\n",
    "\n",
    "plt.imshow(X[2, :, :, 1])"
   ]
  },
  {
   "cell_type": "code",
   "execution_count": null,
   "metadata": {},
   "outputs": [],
   "source": [
    "plt.imshow(X[1, :, :, :])"
   ]
  },
  {
   "cell_type": "code",
   "execution_count": null,
   "metadata": {},
   "outputs": [],
   "source": [
    "lesion_info = metadata.loc[(metadata.ProxID == tmp.ProxID) & (metadata.fid == tmp.fid)]\n",
    "lesion_info\n",
    "get_exam(tmp,lesion_info, 'ADC')"
   ]
  },
  {
   "cell_type": "code",
   "execution_count": null,
   "metadata": {},
   "outputs": [],
   "source": [
    "X[0] = np.zeros((64,64,2))"
   ]
  },
  {
   "cell_type": "code",
   "execution_count": null,
   "metadata": {},
   "outputs": [],
   "source": [
    "X.shape"
   ]
  },
  {
   "cell_type": "code",
   "execution_count": null,
   "metadata": {},
   "outputs": [],
   "source": [
    "img = load_dicom_series(\"/home/paulo/Projects/thesis/prostatex/data/interim/train/ProstateX-0001/t2_tse_tra\")"
   ]
  },
  {
   "cell_type": "code",
   "execution_count": null,
   "metadata": {},
   "outputs": [],
   "source": [
    "img.shape"
   ]
  },
  {
   "cell_type": "code",
   "execution_count": null,
   "metadata": {},
   "outputs": [],
   "source": [
    "img_ = img[:,:, 10]"
   ]
  },
  {
   "cell_type": "code",
   "execution_count": null,
   "metadata": {},
   "outputs": [],
   "source": []
  },
  {
   "cell_type": "code",
   "execution_count": null,
   "metadata": {},
   "outputs": [],
   "source": [
    "plt.imshow(img_)"
   ]
  },
  {
   "cell_type": "code",
   "execution_count": null,
   "metadata": {},
   "outputs": [],
   "source": [
    "patch_ = get_image_patch(img_array=img_, coords=(130,200), padding=128)"
   ]
  },
  {
   "cell_type": "code",
   "execution_count": null,
   "metadata": {},
   "outputs": [],
   "source": [
    "plt.imshow(patch_)"
   ]
  },
  {
   "cell_type": "code",
   "execution_count": null,
   "metadata": {},
   "outputs": [],
   "source": [
    "np.save(\"../data/processed/X_2c.npy\", X)\n",
    "np.save(\"../data/processed/y_2c.npy\", y)"
   ]
  },
  {
   "cell_type": "code",
   "execution_count": null,
   "metadata": {},
   "outputs": [],
   "source": [
    "X.shape"
   ]
  },
  {
   "cell_type": "code",
   "execution_count": null,
   "metadata": {},
   "outputs": [],
   "source": [
    "plt.imshow(X[5,:,:,:], interpolation=\"nearest\")"
   ]
  },
  {
   "cell_type": "code",
   "execution_count": null,
   "metadata": {},
   "outputs": [],
   "source": [
    "mhd = load_ktrans('/home/paulo/Projects/thesis/prostatex/data/interim/train/ProstateX-0001/KTrans')\n",
    "mhd.shape"
   ]
  },
  {
   "cell_type": "code",
   "execution_count": null,
   "metadata": {},
   "outputs": [],
   "source": [
    "plt.imshow(mhd[10, : , : ])"
   ]
  },
  {
   "cell_type": "code",
   "execution_count": null,
   "metadata": {},
   "outputs": [],
   "source": [
    "mhd_ = np.moveaxis(mhd, 0, -1)\n",
    "\n",
    "mhd_.shape"
   ]
  },
  {
   "cell_type": "code",
   "execution_count": null,
   "metadata": {},
   "outputs": [],
   "source": [
    "plt.imshow(mhd_[:, : , 10])"
   ]
  },
  {
   "cell_type": "code",
   "execution_count": 11,
   "metadata": {},
   "outputs": [
    {
     "data": {
      "text/html": [
       "<div>\n",
       "<style scoped>\n",
       "    .dataframe tbody tr th:only-of-type {\n",
       "        vertical-align: middle;\n",
       "    }\n",
       "\n",
       "    .dataframe tbody tr th {\n",
       "        vertical-align: top;\n",
       "    }\n",
       "\n",
       "    .dataframe thead th {\n",
       "        text-align: right;\n",
       "    }\n",
       "</style>\n",
       "<table border=\"1\" class=\"dataframe\">\n",
       "  <thead>\n",
       "    <tr style=\"text-align: right;\">\n",
       "      <th></th>\n",
       "      <th>ProxID</th>\n",
       "      <th>fid</th>\n",
       "      <th>ClinSig</th>\n",
       "    </tr>\n",
       "  </thead>\n",
       "  <tbody>\n",
       "    <tr>\n",
       "      <th>0</th>\n",
       "      <td>ProstateX-0000</td>\n",
       "      <td>1</td>\n",
       "      <td>True</td>\n",
       "    </tr>\n",
       "    <tr>\n",
       "      <th>9</th>\n",
       "      <td>ProstateX-0001</td>\n",
       "      <td>1</td>\n",
       "      <td>False</td>\n",
       "    </tr>\n",
       "    <tr>\n",
       "      <th>22</th>\n",
       "      <td>ProstateX-0002</td>\n",
       "      <td>2</td>\n",
       "      <td>False</td>\n",
       "    </tr>\n",
       "    <tr>\n",
       "      <th>33</th>\n",
       "      <td>ProstateX-0002</td>\n",
       "      <td>1</td>\n",
       "      <td>True</td>\n",
       "    </tr>\n",
       "    <tr>\n",
       "      <th>44</th>\n",
       "      <td>ProstateX-0003</td>\n",
       "      <td>1</td>\n",
       "      <td>False</td>\n",
       "    </tr>\n",
       "  </tbody>\n",
       "</table>\n",
       "</div>"
      ],
      "text/plain": [
       "            ProxID  fid  ClinSig\n",
       "0   ProstateX-0000    1     True\n",
       "9   ProstateX-0001    1    False\n",
       "22  ProstateX-0002    2    False\n",
       "33  ProstateX-0002    1     True\n",
       "44  ProstateX-0003    1    False"
      ]
     },
     "execution_count": 11,
     "metadata": {},
     "output_type": "execute_result"
    }
   ],
   "source": [
    "to_iterate.head()"
   ]
  },
  {
   "cell_type": "code",
   "execution_count": null,
   "metadata": {},
   "outputs": [],
   "source": []
  }
 ],
 "metadata": {
  "kernelspec": {
   "display_name": "kers",
   "language": "python",
   "name": "ker"
  },
  "language_info": {
   "codemirror_mode": {
    "name": "ipython",
    "version": 3
   },
   "file_extension": ".py",
   "mimetype": "text/x-python",
   "name": "python",
   "nbconvert_exporter": "python",
   "pygments_lexer": "ipython3",
   "version": "3.5.2"
  }
 },
 "nbformat": 4,
 "nbformat_minor": 2
}
