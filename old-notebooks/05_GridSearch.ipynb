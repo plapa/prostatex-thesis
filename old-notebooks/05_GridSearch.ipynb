{
 "cells": [
  {
   "cell_type": "code",
   "execution_count": 4,
   "metadata": {},
   "outputs": [],
   "source": [
    "import itertools\n",
    "from src.helper import get_config"
   ]
  },
  {
   "cell_type": "code",
   "execution_count": 58,
   "metadata": {},
   "outputs": [],
   "source": [
    "import yaml\n",
    "\n",
    "with open(\"./../config.yml\", 'r') as ymlfile:\n",
    "    cfg = yaml.load(ymlfile)\n",
    "\n",
    "with open(\"./../search_params.yml\", 'r') as ymlfile:\n",
    "    grid_search = yaml.load(ymlfile)\n"
   ]
  },
  {
   "cell_type": "code",
   "execution_count": 50,
   "metadata": {},
   "outputs": [
    {
     "data": {
      "text/plain": [
       "{'train': {'optimizers': {'architecture': 'xmasnet, resnet, fccn',\n",
       "   'use': 'sgd, adam, rmsprop',\n",
       "   'use_default_params': False,\n",
       "   'lr': [0.01, 0.001, 1e-05],\n",
       "   'momentum': [0.0, 0.2, 0.7, 0.9]}}}"
      ]
     },
     "execution_count": 50,
     "metadata": {},
     "output_type": "execute_result"
    }
   ],
   "source": [
    "param = {\"lr\" : [0.01, 0.001, 0.001], \"decay\" : [0.04, 0.005, .05]}\n",
    "grid_search"
   ]
  },
  {
   "cell_type": "code",
   "execution_count": 52,
   "metadata": {},
   "outputs": [
    {
     "data": {
      "text/plain": [
       "{'architecture': 'xmasnet, resnet, fccn',\n",
       " 'use': 'sgd, adam, rmsprop',\n",
       " 'use_default_params': False,\n",
       " 'lr': [0.01, 0.001, 1e-05],\n",
       " 'momentum': [0.0, 0.2, 0.7, 0.9]}"
      ]
     },
     "execution_count": 52,
     "metadata": {},
     "output_type": "execute_result"
    }
   ],
   "source": [
    "grid_search[\"train\"][\"optimizers\"]"
   ]
  },
  {
   "cell_type": "code",
   "execution_count": 8,
   "metadata": {},
   "outputs": [
    {
     "data": {
      "text/plain": [
       "{'use': 'sgd',\n",
       " 'use_default_params': False,\n",
       " 'lr': 3e-05,\n",
       " 'decay': 0.001,\n",
       " 'momentum': 0.9,\n",
       " 'nesterov': True,\n",
       " 'amsgrad': False}"
      ]
     },
     "execution_count": 8,
     "metadata": {},
     "output_type": "execute_result"
    }
   ],
   "source": [
    "cfg[\"train\"][\"optimizers\"]"
   ]
  },
  {
   "cell_type": "code",
   "execution_count": 28,
   "metadata": {},
   "outputs": [],
   "source": [
    "grid_search = grid_search[\"train\"]\n",
    "a = (dict(zip(grid_search, x)) for x in itertools.product(*grid_search.values()))"
   ]
  },
  {
   "cell_type": "code",
   "execution_count": 29,
   "metadata": {},
   "outputs": [
    {
     "name": "stdout",
     "output_type": "stream",
     "text": [
      "{'optimizers': 'use'}\n",
      "{'optimizers': 'use_default_params'}\n",
      "{'optimizers': 'lr'}\n",
      "{'optimizers': 'decay'}\n",
      "{'optimizers': 'momentum'}\n",
      "{'optimizers': 'nesterov'}\n",
      "{'optimizers': 'amsgrad'}\n"
     ]
    }
   ],
   "source": [
    "for b in a:\n",
    "    print(b)"
   ]
  },
  {
   "cell_type": "code",
   "execution_count": 30,
   "metadata": {},
   "outputs": [],
   "source": [
    "import itertools\n",
    "\n",
    "def gen_combinations(d):\n",
    "    keys, values = d.keys(), d.values()\n",
    "    values_choices = (gen_combinations(v) if isinstance(v, dict) else v for v in values)\n",
    "    for comb in itertools.product(*values_choices):\n",
    "        yield dict(zip(keys, comb))"
   ]
  },
  {
   "cell_type": "code",
   "execution_count": 12,
   "metadata": {},
   "outputs": [],
   "source": [
    "B = {'sgd': {'lr': [0, 1],\n",
    "            'decay': [0, 1, 2] },\n",
    "     's2': {'c': [0, 1],\n",
    "            'd': [0, 1] }}"
   ]
  },
  {
   "cell_type": "code",
   "execution_count": 27,
   "metadata": {},
   "outputs": [
    {
     "name": "stdout",
     "output_type": "stream",
     "text": [
      "{'train': 'optimizers'}\n"
     ]
    }
   ],
   "source": [
    "for a in gen_combinations(grid_search):\n",
    "    print(a)\n",
    "    \n",
    "d = gen_combinations(B)"
   ]
  },
  {
   "cell_type": "code",
   "execution_count": 31,
   "metadata": {},
   "outputs": [
    {
     "name": "stdout",
     "output_type": "stream",
     "text": [
      "s2:\n",
      "  c: [0, 1]\n",
      "  d: [0, 1]\n",
      "sgd:\n",
      "  decay: [0, 1, 2]\n",
      "  lr: [0, 1]\n",
      "\n"
     ]
    }
   ],
   "source": [
    "import yaml\n",
    "print(yaml.dump(B))"
   ]
  },
  {
   "cell_type": "code",
   "execution_count": 14,
   "metadata": {},
   "outputs": [],
   "source": [
    "def gen_combinations(d):\n",
    "    keys, values = d.keys(), d.values()\n",
    "    combinations = itertools.product(*values)\n",
    "\n",
    "    for c in combinations:\n",
    "        yield dict(zip(keys, c))"
   ]
  },
  {
   "cell_type": "code",
   "execution_count": 15,
   "metadata": {},
   "outputs": [],
   "source": [
    "def gen_dict_combinations(d):\n",
    "    keys, values = d.keys(), d.values()\n",
    "    for c in itertools.product(*(gen_combinations(v) for v in values)):\n",
    "        yield dict(zip(keys, c))"
   ]
  },
  {
   "cell_type": "code",
   "execution_count": 32,
   "metadata": {},
   "outputs": [],
   "source": [
    "a = gen_dict_combinations(grid_search)"
   ]
  },
  {
   "cell_type": "code",
   "execution_count": 19,
   "metadata": {},
   "outputs": [
    {
     "ename": "TypeError",
     "evalue": "unhashable type: 'dict'",
     "output_type": "error",
     "traceback": [
      "\u001b[0;31m---------------------------------------------------------------------------\u001b[0m",
      "\u001b[0;31mTypeError\u001b[0m                                 Traceback (most recent call last)",
      "\u001b[0;32m<ipython-input-19-226fa351c05c>\u001b[0m in \u001b[0;36m<module>\u001b[0;34m()\u001b[0m\n\u001b[1;32m      1\u001b[0m \u001b[0mkeys\u001b[0m\u001b[0;34m,\u001b[0m \u001b[0mvalues\u001b[0m \u001b[0;34m=\u001b[0m \u001b[0mzip\u001b[0m\u001b[0;34m(\u001b[0m\u001b[0mB\u001b[0m\u001b[0;34m.\u001b[0m\u001b[0mitems\u001b[0m\u001b[0;34m(\u001b[0m\u001b[0;34m)\u001b[0m\u001b[0;34m)\u001b[0m\u001b[0;34m\u001b[0m\u001b[0m\n\u001b[0;32m----> 2\u001b[0;31m \u001b[0mexperiments\u001b[0m \u001b[0;34m=\u001b[0m \u001b[0;34m[\u001b[0m\u001b[0mdict\u001b[0m\u001b[0;34m(\u001b[0m\u001b[0mzip\u001b[0m\u001b[0;34m(\u001b[0m\u001b[0mkeys\u001b[0m\u001b[0;34m,\u001b[0m \u001b[0mv\u001b[0m\u001b[0;34m)\u001b[0m\u001b[0;34m)\u001b[0m \u001b[0;32mfor\u001b[0m \u001b[0mv\u001b[0m \u001b[0;32min\u001b[0m \u001b[0mitertools\u001b[0m\u001b[0;34m.\u001b[0m\u001b[0mproduct\u001b[0m\u001b[0;34m(\u001b[0m\u001b[0;34m*\u001b[0m\u001b[0mvalues\u001b[0m\u001b[0;34m)\u001b[0m\u001b[0;34m]\u001b[0m\u001b[0;34m\u001b[0m\u001b[0m\n\u001b[0m",
      "\u001b[0;32m<ipython-input-19-226fa351c05c>\u001b[0m in \u001b[0;36m<listcomp>\u001b[0;34m(.0)\u001b[0m\n\u001b[1;32m      1\u001b[0m \u001b[0mkeys\u001b[0m\u001b[0;34m,\u001b[0m \u001b[0mvalues\u001b[0m \u001b[0;34m=\u001b[0m \u001b[0mzip\u001b[0m\u001b[0;34m(\u001b[0m\u001b[0mB\u001b[0m\u001b[0;34m.\u001b[0m\u001b[0mitems\u001b[0m\u001b[0;34m(\u001b[0m\u001b[0;34m)\u001b[0m\u001b[0;34m)\u001b[0m\u001b[0;34m\u001b[0m\u001b[0m\n\u001b[0;32m----> 2\u001b[0;31m \u001b[0mexperiments\u001b[0m \u001b[0;34m=\u001b[0m \u001b[0;34m[\u001b[0m\u001b[0mdict\u001b[0m\u001b[0;34m(\u001b[0m\u001b[0mzip\u001b[0m\u001b[0;34m(\u001b[0m\u001b[0mkeys\u001b[0m\u001b[0;34m,\u001b[0m \u001b[0mv\u001b[0m\u001b[0;34m)\u001b[0m\u001b[0;34m)\u001b[0m \u001b[0;32mfor\u001b[0m \u001b[0mv\u001b[0m \u001b[0;32min\u001b[0m \u001b[0mitertools\u001b[0m\u001b[0;34m.\u001b[0m\u001b[0mproduct\u001b[0m\u001b[0;34m(\u001b[0m\u001b[0;34m*\u001b[0m\u001b[0mvalues\u001b[0m\u001b[0;34m)\u001b[0m\u001b[0;34m]\u001b[0m\u001b[0;34m\u001b[0m\u001b[0m\n\u001b[0m",
      "\u001b[0;31mTypeError\u001b[0m: unhashable type: 'dict'"
     ]
    }
   ],
   "source": [
    "keys, values = zip(B.items())\n",
    "experiments = [dict(zip(keys, v)) for v in itertools.product(*values)]"
   ]
  },
  {
   "cell_type": "code",
   "execution_count": 22,
   "metadata": {},
   "outputs": [
    {
     "data": {
      "text/plain": [
       "(('s2', {'c': [0, 1], 'd': [0, 1]}),)"
      ]
     },
     "execution_count": 22,
     "metadata": {},
     "output_type": "execute_result"
    }
   ],
   "source": [
    "values"
   ]
  },
  {
   "cell_type": "code",
   "execution_count": 41,
   "metadata": {},
   "outputs": [],
   "source": [
    "c = {'use': ['sgd', 'adam'],\n",
    "  'lr': [0.01, 0.001, 1e-05],\n",
    "  'momentum': [0.0, 0.2, 0.7, 0.9]}"
   ]
  },
  {
   "cell_type": "code",
   "execution_count": 59,
   "metadata": {},
   "outputs": [
    {
     "data": {
      "text/plain": [
       "{'architecture': ['xmasnet', 'resnet', 'fccn'],\n",
       " 'use': ['sgd', 'adam', 'rmsprop'],\n",
       " 'lr': [0.01, 0.001, 1e-05],\n",
       " 'momentum': [0.0, 0.2, 0.7, 0.9]}"
      ]
     },
     "execution_count": 59,
     "metadata": {},
     "output_type": "execute_result"
    }
   ],
   "source": [
    "grid_search[\"train\"][\"optimizers\"]"
   ]
  },
  {
   "cell_type": "code",
   "execution_count": 60,
   "metadata": {},
   "outputs": [
    {
     "name": "stdout",
     "output_type": "stream",
     "text": [
      "{'architecture': 'xmasnet', 'use': 'sgd', 'lr': 0.01, 'momentum': 0.0}\n",
      "{'architecture': 'xmasnet', 'use': 'sgd', 'lr': 0.01, 'momentum': 0.2}\n",
      "{'architecture': 'xmasnet', 'use': 'sgd', 'lr': 0.01, 'momentum': 0.7}\n",
      "{'architecture': 'xmasnet', 'use': 'sgd', 'lr': 0.01, 'momentum': 0.9}\n",
      "{'architecture': 'xmasnet', 'use': 'sgd', 'lr': 0.001, 'momentum': 0.0}\n",
      "{'architecture': 'xmasnet', 'use': 'sgd', 'lr': 0.001, 'momentum': 0.2}\n",
      "{'architecture': 'xmasnet', 'use': 'sgd', 'lr': 0.001, 'momentum': 0.7}\n",
      "{'architecture': 'xmasnet', 'use': 'sgd', 'lr': 0.001, 'momentum': 0.9}\n",
      "{'architecture': 'xmasnet', 'use': 'sgd', 'lr': 1e-05, 'momentum': 0.0}\n",
      "{'architecture': 'xmasnet', 'use': 'sgd', 'lr': 1e-05, 'momentum': 0.2}\n",
      "{'architecture': 'xmasnet', 'use': 'sgd', 'lr': 1e-05, 'momentum': 0.7}\n",
      "{'architecture': 'xmasnet', 'use': 'sgd', 'lr': 1e-05, 'momentum': 0.9}\n",
      "{'architecture': 'xmasnet', 'use': 'adam', 'lr': 0.01, 'momentum': 0.0}\n",
      "{'architecture': 'xmasnet', 'use': 'adam', 'lr': 0.01, 'momentum': 0.2}\n",
      "{'architecture': 'xmasnet', 'use': 'adam', 'lr': 0.01, 'momentum': 0.7}\n",
      "{'architecture': 'xmasnet', 'use': 'adam', 'lr': 0.01, 'momentum': 0.9}\n",
      "{'architecture': 'xmasnet', 'use': 'adam', 'lr': 0.001, 'momentum': 0.0}\n",
      "{'architecture': 'xmasnet', 'use': 'adam', 'lr': 0.001, 'momentum': 0.2}\n",
      "{'architecture': 'xmasnet', 'use': 'adam', 'lr': 0.001, 'momentum': 0.7}\n",
      "{'architecture': 'xmasnet', 'use': 'adam', 'lr': 0.001, 'momentum': 0.9}\n",
      "{'architecture': 'xmasnet', 'use': 'adam', 'lr': 1e-05, 'momentum': 0.0}\n",
      "{'architecture': 'xmasnet', 'use': 'adam', 'lr': 1e-05, 'momentum': 0.2}\n",
      "{'architecture': 'xmasnet', 'use': 'adam', 'lr': 1e-05, 'momentum': 0.7}\n",
      "{'architecture': 'xmasnet', 'use': 'adam', 'lr': 1e-05, 'momentum': 0.9}\n",
      "{'architecture': 'xmasnet', 'use': 'rmsprop', 'lr': 0.01, 'momentum': 0.0}\n",
      "{'architecture': 'xmasnet', 'use': 'rmsprop', 'lr': 0.01, 'momentum': 0.2}\n",
      "{'architecture': 'xmasnet', 'use': 'rmsprop', 'lr': 0.01, 'momentum': 0.7}\n",
      "{'architecture': 'xmasnet', 'use': 'rmsprop', 'lr': 0.01, 'momentum': 0.9}\n",
      "{'architecture': 'xmasnet', 'use': 'rmsprop', 'lr': 0.001, 'momentum': 0.0}\n",
      "{'architecture': 'xmasnet', 'use': 'rmsprop', 'lr': 0.001, 'momentum': 0.2}\n",
      "{'architecture': 'xmasnet', 'use': 'rmsprop', 'lr': 0.001, 'momentum': 0.7}\n",
      "{'architecture': 'xmasnet', 'use': 'rmsprop', 'lr': 0.001, 'momentum': 0.9}\n",
      "{'architecture': 'xmasnet', 'use': 'rmsprop', 'lr': 1e-05, 'momentum': 0.0}\n",
      "{'architecture': 'xmasnet', 'use': 'rmsprop', 'lr': 1e-05, 'momentum': 0.2}\n",
      "{'architecture': 'xmasnet', 'use': 'rmsprop', 'lr': 1e-05, 'momentum': 0.7}\n",
      "{'architecture': 'xmasnet', 'use': 'rmsprop', 'lr': 1e-05, 'momentum': 0.9}\n",
      "{'architecture': 'resnet', 'use': 'sgd', 'lr': 0.01, 'momentum': 0.0}\n",
      "{'architecture': 'resnet', 'use': 'sgd', 'lr': 0.01, 'momentum': 0.2}\n",
      "{'architecture': 'resnet', 'use': 'sgd', 'lr': 0.01, 'momentum': 0.7}\n",
      "{'architecture': 'resnet', 'use': 'sgd', 'lr': 0.01, 'momentum': 0.9}\n",
      "{'architecture': 'resnet', 'use': 'sgd', 'lr': 0.001, 'momentum': 0.0}\n",
      "{'architecture': 'resnet', 'use': 'sgd', 'lr': 0.001, 'momentum': 0.2}\n",
      "{'architecture': 'resnet', 'use': 'sgd', 'lr': 0.001, 'momentum': 0.7}\n",
      "{'architecture': 'resnet', 'use': 'sgd', 'lr': 0.001, 'momentum': 0.9}\n",
      "{'architecture': 'resnet', 'use': 'sgd', 'lr': 1e-05, 'momentum': 0.0}\n",
      "{'architecture': 'resnet', 'use': 'sgd', 'lr': 1e-05, 'momentum': 0.2}\n",
      "{'architecture': 'resnet', 'use': 'sgd', 'lr': 1e-05, 'momentum': 0.7}\n",
      "{'architecture': 'resnet', 'use': 'sgd', 'lr': 1e-05, 'momentum': 0.9}\n",
      "{'architecture': 'resnet', 'use': 'adam', 'lr': 0.01, 'momentum': 0.0}\n",
      "{'architecture': 'resnet', 'use': 'adam', 'lr': 0.01, 'momentum': 0.2}\n",
      "{'architecture': 'resnet', 'use': 'adam', 'lr': 0.01, 'momentum': 0.7}\n",
      "{'architecture': 'resnet', 'use': 'adam', 'lr': 0.01, 'momentum': 0.9}\n",
      "{'architecture': 'resnet', 'use': 'adam', 'lr': 0.001, 'momentum': 0.0}\n",
      "{'architecture': 'resnet', 'use': 'adam', 'lr': 0.001, 'momentum': 0.2}\n",
      "{'architecture': 'resnet', 'use': 'adam', 'lr': 0.001, 'momentum': 0.7}\n",
      "{'architecture': 'resnet', 'use': 'adam', 'lr': 0.001, 'momentum': 0.9}\n",
      "{'architecture': 'resnet', 'use': 'adam', 'lr': 1e-05, 'momentum': 0.0}\n",
      "{'architecture': 'resnet', 'use': 'adam', 'lr': 1e-05, 'momentum': 0.2}\n",
      "{'architecture': 'resnet', 'use': 'adam', 'lr': 1e-05, 'momentum': 0.7}\n",
      "{'architecture': 'resnet', 'use': 'adam', 'lr': 1e-05, 'momentum': 0.9}\n",
      "{'architecture': 'resnet', 'use': 'rmsprop', 'lr': 0.01, 'momentum': 0.0}\n",
      "{'architecture': 'resnet', 'use': 'rmsprop', 'lr': 0.01, 'momentum': 0.2}\n",
      "{'architecture': 'resnet', 'use': 'rmsprop', 'lr': 0.01, 'momentum': 0.7}\n",
      "{'architecture': 'resnet', 'use': 'rmsprop', 'lr': 0.01, 'momentum': 0.9}\n",
      "{'architecture': 'resnet', 'use': 'rmsprop', 'lr': 0.001, 'momentum': 0.0}\n",
      "{'architecture': 'resnet', 'use': 'rmsprop', 'lr': 0.001, 'momentum': 0.2}\n",
      "{'architecture': 'resnet', 'use': 'rmsprop', 'lr': 0.001, 'momentum': 0.7}\n",
      "{'architecture': 'resnet', 'use': 'rmsprop', 'lr': 0.001, 'momentum': 0.9}\n",
      "{'architecture': 'resnet', 'use': 'rmsprop', 'lr': 1e-05, 'momentum': 0.0}\n",
      "{'architecture': 'resnet', 'use': 'rmsprop', 'lr': 1e-05, 'momentum': 0.2}\n",
      "{'architecture': 'resnet', 'use': 'rmsprop', 'lr': 1e-05, 'momentum': 0.7}\n",
      "{'architecture': 'resnet', 'use': 'rmsprop', 'lr': 1e-05, 'momentum': 0.9}\n",
      "{'architecture': 'fccn', 'use': 'sgd', 'lr': 0.01, 'momentum': 0.0}\n",
      "{'architecture': 'fccn', 'use': 'sgd', 'lr': 0.01, 'momentum': 0.2}\n",
      "{'architecture': 'fccn', 'use': 'sgd', 'lr': 0.01, 'momentum': 0.7}\n",
      "{'architecture': 'fccn', 'use': 'sgd', 'lr': 0.01, 'momentum': 0.9}\n",
      "{'architecture': 'fccn', 'use': 'sgd', 'lr': 0.001, 'momentum': 0.0}\n",
      "{'architecture': 'fccn', 'use': 'sgd', 'lr': 0.001, 'momentum': 0.2}\n",
      "{'architecture': 'fccn', 'use': 'sgd', 'lr': 0.001, 'momentum': 0.7}\n",
      "{'architecture': 'fccn', 'use': 'sgd', 'lr': 0.001, 'momentum': 0.9}\n",
      "{'architecture': 'fccn', 'use': 'sgd', 'lr': 1e-05, 'momentum': 0.0}\n",
      "{'architecture': 'fccn', 'use': 'sgd', 'lr': 1e-05, 'momentum': 0.2}\n",
      "{'architecture': 'fccn', 'use': 'sgd', 'lr': 1e-05, 'momentum': 0.7}\n",
      "{'architecture': 'fccn', 'use': 'sgd', 'lr': 1e-05, 'momentum': 0.9}\n",
      "{'architecture': 'fccn', 'use': 'adam', 'lr': 0.01, 'momentum': 0.0}\n",
      "{'architecture': 'fccn', 'use': 'adam', 'lr': 0.01, 'momentum': 0.2}\n",
      "{'architecture': 'fccn', 'use': 'adam', 'lr': 0.01, 'momentum': 0.7}\n",
      "{'architecture': 'fccn', 'use': 'adam', 'lr': 0.01, 'momentum': 0.9}\n",
      "{'architecture': 'fccn', 'use': 'adam', 'lr': 0.001, 'momentum': 0.0}\n",
      "{'architecture': 'fccn', 'use': 'adam', 'lr': 0.001, 'momentum': 0.2}\n",
      "{'architecture': 'fccn', 'use': 'adam', 'lr': 0.001, 'momentum': 0.7}\n",
      "{'architecture': 'fccn', 'use': 'adam', 'lr': 0.001, 'momentum': 0.9}\n",
      "{'architecture': 'fccn', 'use': 'adam', 'lr': 1e-05, 'momentum': 0.0}\n",
      "{'architecture': 'fccn', 'use': 'adam', 'lr': 1e-05, 'momentum': 0.2}\n",
      "{'architecture': 'fccn', 'use': 'adam', 'lr': 1e-05, 'momentum': 0.7}\n",
      "{'architecture': 'fccn', 'use': 'adam', 'lr': 1e-05, 'momentum': 0.9}\n",
      "{'architecture': 'fccn', 'use': 'rmsprop', 'lr': 0.01, 'momentum': 0.0}\n",
      "{'architecture': 'fccn', 'use': 'rmsprop', 'lr': 0.01, 'momentum': 0.2}\n",
      "{'architecture': 'fccn', 'use': 'rmsprop', 'lr': 0.01, 'momentum': 0.7}\n",
      "{'architecture': 'fccn', 'use': 'rmsprop', 'lr': 0.01, 'momentum': 0.9}\n",
      "{'architecture': 'fccn', 'use': 'rmsprop', 'lr': 0.001, 'momentum': 0.0}\n",
      "{'architecture': 'fccn', 'use': 'rmsprop', 'lr': 0.001, 'momentum': 0.2}\n",
      "{'architecture': 'fccn', 'use': 'rmsprop', 'lr': 0.001, 'momentum': 0.7}\n",
      "{'architecture': 'fccn', 'use': 'rmsprop', 'lr': 0.001, 'momentum': 0.9}\n",
      "{'architecture': 'fccn', 'use': 'rmsprop', 'lr': 1e-05, 'momentum': 0.0}\n",
      "{'architecture': 'fccn', 'use': 'rmsprop', 'lr': 1e-05, 'momentum': 0.2}\n",
      "{'architecture': 'fccn', 'use': 'rmsprop', 'lr': 1e-05, 'momentum': 0.7}\n",
      "{'architecture': 'fccn', 'use': 'rmsprop', 'lr': 1e-05, 'momentum': 0.9}\n"
     ]
    }
   ],
   "source": [
    "a = gen_combinations(grid_search[\"train\"][\"optimizers\"])\n",
    "for i in a:\n",
    "    print(i)"
   ]
  },
  {
   "cell_type": "code",
   "execution_count": 64,
   "metadata": {},
   "outputs": [
    {
     "data": {
      "text/plain": [
       "{'architecture': 'resnet',\n",
       " 'use': 'sgd',\n",
       " 'use_default_params': False,\n",
       " 'lr': 3e-05,\n",
       " 'decay': 0.001,\n",
       " 'momentum': 0.9,\n",
       " 'nesterov': True,\n",
       " 'amsgrad': False}"
      ]
     },
     "execution_count": 64,
     "metadata": {},
     "output_type": "execute_result"
    }
   ],
   "source": [
    "cfg[\"train\"][\"optimizers\"]"
   ]
  },
  {
   "cell_type": "code",
   "execution_count": 71,
   "metadata": {},
   "outputs": [
    {
     "name": "stdout",
     "output_type": "stream",
     "text": [
      "architecture\n",
      "use\n",
      "use_default_params\n",
      "lr\n",
      "decay\n",
      "momentum\n",
      "nesterov\n",
      "amsgrad\n"
     ]
    }
   ],
   "source": [
    "for key in cfg[\"train\"][\"optimizers\"]:\n",
    "    print(key)"
   ]
  },
  {
   "cell_type": "code",
   "execution_count": 73,
   "metadata": {},
   "outputs": [],
   "source": [
    "import itertools\n",
    "import random\n",
    "\n",
    "def reservoir_sample(iterable, k):\n",
    "    it = iter(iterable)\n",
    "    if not (k > 0):\n",
    "        raise ValueError(\"sample size must be positive\")\n",
    "\n",
    "    sample = list(itertools.islice(it, k)) # fill the reservoir\n",
    "    random.shuffle(sample) # if number of items less then *k* then\n",
    "                           #   return all items in random order.\n",
    "    for i, item in enumerate(it, start=k+1):\n",
    "        j = random.randrange(i) # random [0..i)\n",
    "        if j < k:\n",
    "            sample[j] = item # replace item with gradually decreasing probability\n",
    "    return sample"
   ]
  },
  {
   "cell_type": "code",
   "execution_count": 92,
   "metadata": {},
   "outputs": [],
   "source": [
    "sample = reservoir_sample(gen_combinations(grid_search[\"train\"][\"optimizers\"]), 10)"
   ]
  },
  {
   "cell_type": "code",
   "execution_count": 93,
   "metadata": {},
   "outputs": [
    {
     "data": {
      "text/plain": [
       "{'architecture': 'fccn', 'use': 'sgd', 'lr': 0.01, 'momentum': 0.7}"
      ]
     },
     "execution_count": 93,
     "metadata": {},
     "output_type": "execute_result"
    }
   ],
   "source": [
    "sample[0]"
   ]
  },
  {
   "cell_type": "code",
   "execution_count": 90,
   "metadata": {},
   "outputs": [],
   "source": [
    "for key in sample[0]:\n",
    "    \n",
    "    if key in tmp[\"train\"][\"optimizers\"].keys():\n",
    "        tmp[\"train\"][\"optimizers\"][key] = sample[0][key]"
   ]
  },
  {
   "cell_type": "code",
   "execution_count": 85,
   "metadata": {},
   "outputs": [
    {
     "data": {
      "text/plain": [
       "True"
      ]
     },
     "execution_count": 85,
     "metadata": {},
     "output_type": "execute_result"
    }
   ],
   "source": [
    "'use' in sample[0].keys()"
   ]
  },
  {
   "cell_type": "code",
   "execution_count": 91,
   "metadata": {},
   "outputs": [
    {
     "data": {
      "text/plain": [
       "{'general': {'padding': 32, 'channels': 3},\n",
       " 'preprocessing': {'apply': True,\n",
       "  'augmented_ds_size': 300,\n",
       "  'rescale': True,\n",
       "  'rescale_method': 'standartize',\n",
       "  'interpolation': 'cubic'},\n",
       " 'train': {'batch_size': 16,\n",
       "  'epochs': 150,\n",
       "  'train_val_split': 0.7,\n",
       "  'use_augmentation': False,\n",
       "  'callbacks': {'lr_reduce': {'apply': False,\n",
       "    'use_default_params': False,\n",
       "    'monitor': 'val_loss',\n",
       "    'factor': 0.5,\n",
       "    'patience': 5,\n",
       "    'min_lr': 1e-07,\n",
       "    'min_delta': 0.001,\n",
       "    'cooldown': 5,\n",
       "    'verbose': 2},\n",
       "   'early_stopping': {'apply': True,\n",
       "    'use_default_params': False,\n",
       "    'monitor': 'val_loss',\n",
       "    'min_delta': 1e-06,\n",
       "    'patience': 15,\n",
       "    'verbose': 1,\n",
       "    'mode': 'auto'}},\n",
       "  'optimizers': {'architecture': 'xmasnet',\n",
       "   'use': 'sgd',\n",
       "   'use_default_params': False,\n",
       "   'lr': 0.001,\n",
       "   'decay': 0.001,\n",
       "   'momentum': 0.2,\n",
       "   'nesterov': True,\n",
       "   'amsgrad': False}}}"
      ]
     },
     "execution_count": 91,
     "metadata": {},
     "output_type": "execute_result"
    }
   ],
   "source": []
  },
  {
   "cell_type": "code",
   "execution_count": null,
   "metadata": {},
   "outputs": [],
   "source": []
  }
 ],
 "metadata": {
  "kernelspec": {
   "display_name": "Python (prostateX) ",
   "language": "python",
   "name": "prostatex"
  },
  "language_info": {
   "codemirror_mode": {
    "name": "ipython",
    "version": 3
   },
   "file_extension": ".py",
   "mimetype": "text/x-python",
   "name": "python",
   "nbconvert_exporter": "python",
   "pygments_lexer": "ipython3",
   "version": "3.6.5"
  }
 },
 "nbformat": 4,
 "nbformat_minor": 2
}
