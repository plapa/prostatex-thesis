{
 "cells": [
  {
   "cell_type": "code",
   "execution_count": 58,
   "metadata": {},
   "outputs": [],
   "source": [
    "import keras\n",
    "import numpy as np\n",
    "\n",
    "from keras.layers import Conv2D, Conv2DTranspose, MaxPool2D, Dense, Flatten, Dropout, BatchNormalization, Activation\n",
    "from keras.models import Sequential\n",
    "\n",
    "from keras.metrics import *\n",
    "from keras.optimizers import Adam, SGD\n",
    "from keras.callbacks import ModelCheckpoint\n",
    "from keras.callbacks import LearningRateScheduler, EarlyStopping\n",
    "\n",
    "# Image size: 256, 256, 1\n",
    "\n",
    "# 1, 2, 8, 16, 32, 64, 128, 256, 512\n",
    "import tensorflow as tf\n",
    "from sklearn.metrics import roc_auc_score\n",
    "\n",
    "import pandas as pd\n",
    "from src.models.util.callbacks import Metrics\n",
    "from src.helper import get_config"
   ]
  },
  {
   "cell_type": "code",
   "execution_count": 62,
   "metadata": {},
   "outputs": [
    {
     "data": {
      "text/plain": [
       "{'Section1': {'name': 'section 1', 'age': 20},\n",
       " 'Section2': {'name': 'section 2', 'age': 3.4}}"
      ]
     },
     "execution_count": 62,
     "metadata": {},
     "output_type": "execute_result"
    }
   ],
   "source": [
    "import yaml\n",
    "with open(\"config.yaml\") as f:\n",
    "    config = yaml.load(f)\n",
    "    \n",
    "config"
   ]
  },
  {
   "cell_type": "code",
   "execution_count": 2,
   "metadata": {},
   "outputs": [],
   "source": [
    "\n",
    "\n",
    "def auroc(y_true, y_pred):\n",
    "    \n",
    "    try:\n",
    "        tf.py_func(roc_auc_score, (y_true, y_pred), tf.double)\n",
    "        return tf.py_func(roc_auc_score, (y_true, y_pred), tf.double)\n",
    "    except:\n",
    "        return"
   ]
  },
  {
   "cell_type": "code",
   "execution_count": 4,
   "metadata": {},
   "outputs": [],
   "source": [
    "def FCCN():\n",
    "\n",
    "    model = Sequential()\n",
    "\n",
    "    model.add(Conv2D(input_shape=(64,64,3), strides=1, filters= 33, kernel_size=3, padding=\"same\"))\n",
    "    model.add(Conv2D(3, 1, padding=\"same\"))\n",
    "    model.add(Activation('relu'))\n",
    "    model.add(BatchNormalization())\n",
    "    model.add(MaxPool2D(2))\n",
    "\n",
    "\n",
    "\n",
    "    model.add(Conv2D(strides=1, filters= 64, kernel_size=3, padding=\"same\"))\n",
    "    model.add(Conv2D(3, 1, padding= \"same\"))\n",
    "    model.add(Activation('relu'))\n",
    "    model.add(BatchNormalization())\n",
    "    model.add(MaxPool2D(2))\n",
    "\n",
    "    model.add(Conv2D(strides=1, filters= 128, kernel_size=3, padding= \"same\"))\n",
    "    model.add(Conv2D(3, 1, padding=\"same\"))\n",
    "    model.add(Activation('relu'))\n",
    "    model.add(BatchNormalization())\n",
    "    model.add(MaxPool2D(2))\n",
    "    \n",
    "    model.add(Flatten())\n",
    "\n",
    "\n",
    "    model.add(Dense(256, activation='sigmoid'))\n",
    "    model.add(Dropout(0.5))\n",
    "    #model.add(Dense(64, activation='sigmoid'))\n",
    "    model.add(Dense(1, activation='sigmoid'))\n",
    "\n",
    "    return model"
   ]
  },
  {
   "cell_type": "code",
   "execution_count": 5,
   "metadata": {},
   "outputs": [
    {
     "name": "stdout",
     "output_type": "stream",
     "text": [
      "_________________________________________________________________\n",
      "Layer (type)                 Output Shape              Param #   \n",
      "=================================================================\n",
      "conv2d_7 (Conv2D)            (None, 64, 64, 33)        924       \n",
      "_________________________________________________________________\n",
      "conv2d_8 (Conv2D)            (None, 64, 64, 3)         102       \n",
      "_________________________________________________________________\n",
      "activation_4 (Activation)    (None, 64, 64, 3)         0         \n",
      "_________________________________________________________________\n",
      "batch_normalization_4 (Batch (None, 64, 64, 3)         12        \n",
      "_________________________________________________________________\n",
      "max_pooling2d_4 (MaxPooling2 (None, 32, 32, 3)         0         \n",
      "_________________________________________________________________\n",
      "conv2d_9 (Conv2D)            (None, 32, 32, 64)        1792      \n",
      "_________________________________________________________________\n",
      "conv2d_10 (Conv2D)           (None, 32, 32, 3)         195       \n",
      "_________________________________________________________________\n",
      "activation_5 (Activation)    (None, 32, 32, 3)         0         \n",
      "_________________________________________________________________\n",
      "batch_normalization_5 (Batch (None, 32, 32, 3)         12        \n",
      "_________________________________________________________________\n",
      "max_pooling2d_5 (MaxPooling2 (None, 16, 16, 3)         0         \n",
      "_________________________________________________________________\n",
      "conv2d_11 (Conv2D)           (None, 16, 16, 128)       3584      \n",
      "_________________________________________________________________\n",
      "conv2d_12 (Conv2D)           (None, 16, 16, 3)         387       \n",
      "_________________________________________________________________\n",
      "activation_6 (Activation)    (None, 16, 16, 3)         0         \n",
      "_________________________________________________________________\n",
      "batch_normalization_6 (Batch (None, 16, 16, 3)         12        \n",
      "_________________________________________________________________\n",
      "max_pooling2d_6 (MaxPooling2 (None, 8, 8, 3)           0         \n",
      "_________________________________________________________________\n",
      "flatten_2 (Flatten)          (None, 192)               0         \n",
      "_________________________________________________________________\n",
      "dense_3 (Dense)              (None, 256)               49408     \n",
      "_________________________________________________________________\n",
      "dropout_2 (Dropout)          (None, 256)               0         \n",
      "_________________________________________________________________\n",
      "dense_4 (Dense)              (None, 1)                 257       \n",
      "=================================================================\n",
      "Total params: 56,685\n",
      "Trainable params: 56,667\n",
      "Non-trainable params: 18\n",
      "_________________________________________________________________\n"
     ]
    }
   ],
   "source": [
    "model = FCCN()\n",
    "model.summary()"
   ]
  },
  {
   "cell_type": "code",
   "execution_count": 6,
   "metadata": {},
   "outputs": [],
   "source": [
    "X = np.load(\"../data/processed/X_2c.npy\")\n",
    "y = np.load(\"../data/processed/y_2c.npy\")"
   ]
  },
  {
   "cell_type": "code",
   "execution_count": null,
   "metadata": {},
   "outputs": [],
   "source": []
  },
  {
   "cell_type": "code",
   "execution_count": 15,
   "metadata": {},
   "outputs": [
    {
     "data": {
      "text/plain": [
       "-5.250273439228904e-17"
      ]
     },
     "execution_count": 15,
     "metadata": {},
     "output_type": "execute_result"
    }
   ],
   "source": [
    "np.mean(X)"
   ]
  },
  {
   "cell_type": "code",
   "execution_count": 16,
   "metadata": {},
   "outputs": [
    {
     "data": {
      "text/plain": [
       "(296, 64, 64, 3)"
      ]
     },
     "execution_count": 16,
     "metadata": {},
     "output_type": "execute_result"
    }
   ],
   "source": [
    "X.shape"
   ]
  },
  {
   "cell_type": "code",
   "execution_count": 7,
   "metadata": {},
   "outputs": [],
   "source": [
    "X_train = X[:200,: ,:,:]\n",
    "X_val = X[200:, :,::]\n",
    "\n",
    "\n",
    "y_train = y[:200]\n",
    "y_val = y[200:]"
   ]
  },
  {
   "cell_type": "code",
   "execution_count": 43,
   "metadata": {},
   "outputs": [
    {
     "name": "stdout",
     "output_type": "stream",
     "text": [
      "Train on 200 samples, validate on 96 samples\n",
      "Epoch 1/50\n",
      "200/200 [==============================] - 2s 12ms/step - loss: 0.1108 - val_loss: 0.9549\n",
      "- val_f1: 0.1538 - val_precision: 0.1875 - val_recall 0.1304 - val_auroc 0.4762 \n",
      "Epoch 2/50\n",
      "200/200 [==============================] - 1s 7ms/step - loss: 0.0990 - val_loss: 1.1078\n",
      "- val_f1: 0.0588 - val_precision: 0.0909 - val_recall 0.0435 - val_auroc 0.4532 \n",
      "Epoch 3/50\n",
      "200/200 [==============================] - 1s 7ms/step - loss: 0.0976 - val_loss: 1.0888\n",
      "- val_f1: 0.2128 - val_precision: 0.2083 - val_recall 0.2174 - val_auroc 0.4786 \n",
      "Epoch 4/50\n",
      "200/200 [==============================] - 1s 7ms/step - loss: 0.0641 - val_loss: 1.1333\n",
      "- val_f1: 0.0667 - val_precision: 0.1429 - val_recall 0.0435 - val_auroc 0.4806 \n",
      "Epoch 5/50\n",
      "200/200 [==============================] - 1s 7ms/step - loss: 0.0684 - val_loss: 1.2555\n",
      "- val_f1: 0.0606 - val_precision: 0.1 - val_recall 0.0435 - val_auroc 0.4601 \n",
      "Epoch 6/50\n",
      "200/200 [==============================] - 1s 7ms/step - loss: 0.0542 - val_loss: 1.2716\n",
      "- val_f1: 0.1212 - val_precision: 0.2 - val_recall 0.087 - val_auroc 0.4887 \n"
     ]
    },
    {
     "data": {
      "text/plain": [
       "<keras.callbacks.History at 0x7f025b82ab38>"
      ]
     },
     "execution_count": 43,
     "metadata": {},
     "output_type": "execute_result"
    }
   ],
   "source": [
    "model_checkpoint = ModelCheckpoint('../data/weights.h5', monitor='val_loss', save_best_only=True)\n",
    "\n",
    "\n",
    "metric = Metrics()\n",
    "c_backs = [model_checkpoint]\n",
    "c_backs.append( EarlyStopping(monitor='val_loss', min_delta=0.001, patience=5) )\n",
    "c_backs.append( metric )\n",
    "model.compile( optimizer=Adam(lr=0.001), loss='binary_crossentropy')\n",
    "\n",
    "model.fit(X_train, y_train,\n",
    "          batch_size=20,\n",
    "          epochs=50,\n",
    "          validation_data=(X_val, y_val),\n",
    "          shuffle=True,\n",
    "         callbacks=c_backs)"
   ]
  },
  {
   "cell_type": "code",
   "execution_count": 110,
   "metadata": {},
   "outputs": [
    {
     "data": {
      "text/plain": [
       "<bound method Model.compile of <keras.engine.sequential.Sequential object at 0x7f029872c588>>"
      ]
     },
     "execution_count": 110,
     "metadata": {},
     "output_type": "execute_result"
    }
   ],
   "source": []
  },
  {
   "cell_type": "code",
   "execution_count": 44,
   "metadata": {},
   "outputs": [
    {
     "data": {
      "text/plain": [
       "[0.4762, 0.4532, 0.4786, 0.4806, 0.4601, 0.4887]"
      ]
     },
     "execution_count": 44,
     "metadata": {},
     "output_type": "execute_result"
    }
   ],
   "source": [
    "metric.val"
   ]
  },
  {
   "cell_type": "code",
   "execution_count": 106,
   "metadata": {},
   "outputs": [
    {
     "data": {
      "text/plain": [
       "'Metrics'"
      ]
     },
     "execution_count": 106,
     "metadata": {},
     "output_type": "execute_result"
    }
   ],
   "source": [
    "metric.__class__.__name__"
   ]
  },
  {
   "cell_type": "code",
   "execution_count": 100,
   "metadata": {},
   "outputs": [
    {
     "data": {
      "text/plain": [
       "1539082503"
      ]
     },
     "execution_count": 100,
     "metadata": {},
     "output_type": "execute_result"
    }
   ],
   "source": [
    "int(now.timestamp())"
   ]
  },
  {
   "cell_type": "code",
   "execution_count": 71,
   "metadata": {},
   "outputs": [],
   "source": [
    "hist = model.history.history\n",
    "hist[\"epoch\"] = model.history.epoch\n",
    "hist[\"val_auroc\"] = metric.val_auroc\n",
    "hist[\"val_precision\"] = metric.val_precisions\n",
    "hist[\"val_recall\"] = metric.val_recalls"
   ]
  },
  {
   "cell_type": "code",
   "execution_count": 54,
   "metadata": {},
   "outputs": [],
   "source": [
    "hist[\"epoch\"] = model.history.epoch\n",
    "hist[\"val_auroc\"] = metric.val_auroc\n",
    "hist[\"val_precision\"] = metric.val_precisions\n",
    "hist[\"val_recall\"] = metric.val_recalls"
   ]
  },
  {
   "cell_type": "code",
   "execution_count": 103,
   "metadata": {},
   "outputs": [],
   "source": [
    "import datetime\n",
    "\n",
    "now = datetime.datetime.now()\n",
    "\n",
    "log = dict()\n",
    "log[\"datetime\"] = {'date': now.strftime(\"%Y-%m-%d %H:%M\"), 'unix' : now.timestamp()}\n",
    "log[\"parameters\"] = config\n",
    "log[\"history\"] = hist"
   ]
  },
  {
   "cell_type": "code",
   "execution_count": 104,
   "metadata": {},
   "outputs": [
    {
     "ename": "AttributeError",
     "evalue": "'dict' object has no attribute 'to_json'",
     "output_type": "error",
     "traceback": [
      "\u001b[0;31m---------------------------------------------------------------------------\u001b[0m",
      "\u001b[0;31mAttributeError\u001b[0m                            Traceback (most recent call last)",
      "\u001b[0;32m<ipython-input-104-2da65a4e9c40>\u001b[0m in \u001b[0;36m<module>\u001b[0;34m()\u001b[0m\n\u001b[0;32m----> 1\u001b[0;31m \u001b[0mprint\u001b[0m\u001b[0;34m(\u001b[0m\u001b[0mhist\u001b[0m\u001b[0;34m.\u001b[0m\u001b[0mto_json\u001b[0m\u001b[0;34m(\u001b[0m\u001b[0;34m)\u001b[0m\u001b[0;34m)\u001b[0m\u001b[0;34m\u001b[0m\u001b[0m\n\u001b[0m",
      "\u001b[0;31mAttributeError\u001b[0m: 'dict' object has no attribute 'to_json'"
     ]
    }
   ],
   "source": [
    "print(hist.to_json())"
   ]
  },
  {
   "cell_type": "code",
   "execution_count": 105,
   "metadata": {},
   "outputs": [
    {
     "data": {
      "text/plain": [
       "{'datetime': {'date': '2018-10-09 11:59', 'unix': 1539082750.907701},\n",
       " 'parameters': {'Section1': {'name': 'section 1', 'age': 20},\n",
       "  'Section2': {'name': 'section 2', 'age': 3.4}},\n",
       " 'history': {'val_loss': [0.9549218155443668,\n",
       "   1.107801587631305,\n",
       "   1.0887549668550491,\n",
       "   1.1332847625017166,\n",
       "   1.255474613358577,\n",
       "   1.2716096825897694],\n",
       "  'loss': [0.11080916561186313,\n",
       "   0.09900723025202751,\n",
       "   0.09763280674815178,\n",
       "   0.06411000154912472,\n",
       "   0.06840433236211538,\n",
       "   0.05415494218468666],\n",
       "  'val_auroc': [0.4762, 0.4532, 0.4786, 0.4806, 0.4601, 0.4887],\n",
       "  'val_precision': [0.1875, 0.0909, 0.2083, 0.1429, 0.1, 0.2],\n",
       "  'val_recall': [0.1304, 0.0435, 0.2174, 0.0435, 0.0435, 0.087],\n",
       "  'epoch': [0, 1, 2, 3, 4, 5]}}"
      ]
     },
     "execution_count": 105,
     "metadata": {},
     "output_type": "execute_result"
    }
   ],
   "source": [
    "log"
   ]
  },
  {
   "cell_type": "code",
   "execution_count": null,
   "metadata": {},
   "outputs": [],
   "source": []
  }
 ],
 "metadata": {
  "kernelspec": {
   "display_name": "Python (prostateX) ",
   "language": "python",
   "name": "prostatex"
  },
  "language_info": {
   "codemirror_mode": {
    "name": "ipython",
    "version": 3
   },
   "file_extension": ".py",
   "mimetype": "text/x-python",
   "name": "python",
   "nbconvert_exporter": "python",
   "pygments_lexer": "ipython3",
   "version": "3.6.5"
  }
 },
 "nbformat": 4,
 "nbformat_minor": 2
}
